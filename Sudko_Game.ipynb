{
  "nbformat": 4,
  "nbformat_minor": 0,
  "metadata": {
    "colab": {
      "provenance": []
    },
    "kernelspec": {
      "name": "python3",
      "display_name": "Python 3"
    },
    "language_info": {
      "name": "python"
    }
  },
  "cells": [
    {
      "cell_type": "code",
      "execution_count": 3,
      "metadata": {
        "colab": {
          "base_uri": "https://localhost:8080/"
        },
        "id": "igadwl4-TBMT",
        "outputId": "e7e65be1-c57f-4f14-d0f5-618965ad5e53"
      },
      "outputs": [
        {
          "output_type": "stream",
          "name": "stdout",
          "text": [
            "Welcome to Sudoku!\n",
            "\n",
            "New Sudoku Puzzle:\n",
            "4 8 5 1 7 2 6 3 9\n",
            "9 6 3 5 4 8 2 1 7\n",
            "7 2 1 3 9 6 8 5 4\n",
            "1 4 2 6 3 7 9 8 5\n",
            "3 7 6 8 5 9 4 2 1\n",
            "5 9 8 2 1 4 7 6 3\n",
            "8 3 9 4 2 5 1 7 6\n",
            "2 5 4 7 6 1 3 9 8\n",
            "6 1 7 9 8 3 5 4 2\n",
            "\n",
            "Enter the row (0-8) where you want to place a number (or -1 to quit, -2 for a new game): 2\n",
            "Enter the column (0-8) where you want to place a number: 1\n",
            "Enter the number (1-9) you want to place: 7\n",
            "Invalid move. Please try again.\n",
            "\n",
            "Enter the row (0-8) where you want to place a number (or -1 to quit, -2 for a new game): -1\n",
            "Quitting the game.\n"
          ]
        }
      ],
      "source": [
        "import random\n",
        "\n",
        "def generate_sudoku():\n",
        "    base  = 3\n",
        "    side  = base * base\n",
        "\n",
        "    def pattern(r,c): return (base*(r%base)+r//base+c)%side\n",
        "\n",
        "    rBase = range(base)\n",
        "    rows  = [ g*base + r for g in shuffle(rBase) for r in shuffle(rBase) ]\n",
        "    cols  = [ g*base + c for g in shuffle(rBase) for c in shuffle(rBase) ]\n",
        "    nums  = shuffle(range(1,base*base+1))\n",
        "\n",
        "    return [[nums[pattern(r,c)] for c in cols] for r in rows]\n",
        "\n",
        "def shuffle(s): return random.sample(s,len(s))\n",
        "\n",
        "def print_sudoku(sudoku):\n",
        "    for row in sudoku:\n",
        "        print(\" \".join(map(str, row)))\n",
        "\n",
        "def play_sudoku():\n",
        "    print(\"Welcome to Sudoku!\")\n",
        "    while True:\n",
        "        sudoku = generate_sudoku()\n",
        "        print(\"\\nNew Sudoku Puzzle:\")\n",
        "        print_sudoku(sudoku)\n",
        "\n",
        "        while True:\n",
        "            row = int(input(\"\\nEnter the row (0-8) where you want to place a number (or -1 to quit, -2 for a new game): \"))\n",
        "\n",
        "            if row == -1:\n",
        "                print(\"Quitting the game.\")\n",
        "                return\n",
        "            elif row == -2:\n",
        "                break\n",
        "\n",
        "            col = int(input(\"Enter the column (0-8) where you want to place a number: \"))\n",
        "            num = int(input(\"Enter the number (1-9) you want to place: \"))\n",
        "\n",
        "            if isValidMove(sudoku, row, col, num):\n",
        "                sudoku[row][col] = num\n",
        "                print_sudoku(sudoku)\n",
        "                if isSolved(sudoku):\n",
        "                    print(\"Congratulations! You solved the Sudoku puzzle!\")\n",
        "                    break\n",
        "            else:\n",
        "                print(\"Invalid move. Please try again.\")\n",
        "\n",
        "def isValidMove(sudoku, row, col, num):\n",
        "    return (num not in sudoku[row]) and \\\n",
        "           all(num != sudoku[i][col] for i in range(9)) and \\\n",
        "           all(num != sudoku[row//3*3 + i//3][col//3*3 + i%3] for i in range(9))\n",
        "\n",
        "def isSolved(sudoku):\n",
        "    return all(all(cell != 0 for cell in row) for row in sudoku)\n",
        "\n",
        "if __name__ == \"__main__\":\n",
        "    play_sudoku()\n"
      ]
    }
  ]
}